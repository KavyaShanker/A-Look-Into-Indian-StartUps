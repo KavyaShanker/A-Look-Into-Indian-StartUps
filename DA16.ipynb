{
  "nbformat": 4,
  "nbformat_minor": 0,
  "metadata": {
    "colab": {
      "provenance": []
    },
    "kernelspec": {
      "name": "python3",
      "display_name": "Python 3"
    },
    "language_info": {
      "name": "python"
    }
  },
  "cells": [
    {
      "cell_type": "code",
      "execution_count": null,
      "metadata": {
        "id": "h-w6LUTJwwqL"
      },
      "outputs": [],
      "source": [
        "import gradio as gr\n",
        "\n",
        "from sklearn.feature_extraction.text import TfidfVectorizer\n",
        "from sklearn.metrics.pairwise import linear_kernel\n",
        "import pandas as pd\n",
        "\n",
        "import matplotlib as plt\n",
        "from sklearn.ensemble import GradientBoostingRegressor\n",
        "\n",
        "from sklearn.model_selection import train_test_split\n",
        "from category_encoders import TargetEncoder\n",
        "from sklearn.linear_model import LinearRegression\n",
        "import statsmodels.api as sm\n",
        "\n",
        "import numpy as np\n",
        "from sklearn.linear_model import LinearRegression\n",
        "from sklearn.feature_selection import SelectKBest, f_regression\n",
        "from sklearn.ensemble import RandomForestRegressor\n",
        "\n",
        "from sklearn.model_selection import train_test_split\n",
        "from category_encoders import TargetEncoder\n",
        "\n",
        "from sklearn.tree import DecisionTreeRegressor\n",
        "\n",
        "data = pd.read_csv('/content/Unicorntablecsv.csv')\n",
        "def suitable_investor(company, sector, location):\n",
        "    features = ['Company', 'Sector', 'Location', 'Select Investors']\n",
        "\n",
        "    # Concatenate the new entry with the original dataset\n",
        "    new_entry = pd.DataFrame({\n",
        "        'Company': [company],\n",
        "        'Sector': [sector],\n",
        "        'Location': [location],\n",
        "        'Select Investors': [''],  # Since this field is not provided by the user, use an empty string\n",
        "    })\n",
        "    data_with_new_entry = pd.concat([data, new_entry], ignore_index=True)\n",
        "\n",
        "    # Combine relevant features into a single string for each startup\n",
        "    data_with_new_entry['Features'] = data_with_new_entry[features].apply(lambda x: ' '.join(x.dropna().astype(str)), axis=1)\n",
        "\n",
        "    # Apply TF-IDF vectorization to convert text into numerical features\n",
        "    vectorizer = TfidfVectorizer()\n",
        "    features_matrix = vectorizer.fit_transform(data_with_new_entry['Features'])\n",
        "\n",
        "    # Compute the cosine similarity matrix\n",
        "    cosine_similarities = linear_kernel(features_matrix, features_matrix)\n",
        "\n",
        "    # Get the index of the startup for which you want to recommend investors\n",
        "    target_index = len(data_with_new_entry) - 1  # Index of the new entry\n",
        "\n",
        "    # Get the top 5 most similar startups\n",
        "    similar_startups_indices = cosine_similarities[target_index].argsort()[::-1][1:6]\n",
        "\n",
        "    # Get the names of the recommended investors\n",
        "    recommended_investors = data_with_new_entry.loc[similar_startups_indices]['Select Investors']\n",
        "\n",
        "    return recommended_investors[0:1]\n",
        "\n",
        "data = pd.read_csv('/content/Unicorntablecsv.csv')\n",
        "def predict_valuation(sector, subsector, entryvaluation, entry, location, investors):\n",
        "\n",
        "    features = data[['Sector', 'Sub-Sector', 'Entry Valuation^^ ($B)', 'Entry', 'Location']]\n",
        "    target = data[['Valuation ($B)']].astype('float')\n",
        "    input_data = pd.DataFrame({\n",
        "        'Sector': [sector],\n",
        "        'Sub-Sector': [subsector],\n",
        "        'Entry Valuation^^ ($B)': [float(entryvaluation)],\n",
        "        'Entry': [entry],\n",
        "        'Location': [location]\n",
        "    })\n",
        "\n",
        "    X_train, X_test, Y_train, Y_test = train_test_split(features, target, test_size=0.2, random_state=42)\n",
        "    X_test = X_test._append(input_data)\n",
        "\n",
        "    target_encoder = TargetEncoder()\n",
        "    X_train_encoded = target_encoder.fit_transform(X_train, Y_train)\n",
        "    X_test_encoded = target_encoder.transform(X_test)\n",
        "\n",
        "    model = GradientBoostingRegressor(random_state=42)\n",
        "    model.fit(X_train_encoded, Y_train.values.ravel())\n",
        "    Y_pred = model.predict(X_test_encoded)\n",
        "\n",
        "    value = Y_pred[len(Y_pred)-1]\n",
        "    rounded_number = round(value / 1000000, 1)\n",
        "    formatted_value = \"${} million\".format(rounded_number)\n",
        "    return (formatted_value)\n",
        "\n",
        "df = pd.read_csv('/content/startupdata.csv')\n",
        "def ret_predicted_funding(year, domain, city, stage):\n",
        "    # Split the data into features (X) and target (y)\n",
        "    X = df[['Founded', 'Domain', 'City', 'Stage']]  # Features\n",
        "    y = df['Amount'].astype('float')  # Target variable\n",
        "    input_data = pd.DataFrame({\n",
        "        'Founded': [float(year)],\n",
        "        'Domain': [domain],\n",
        "        'City': [city],\n",
        "        'Stage': [stage]\n",
        "    })\n",
        "\n",
        "    # Perform train-test split\n",
        "    X_train, X_test, y_train, y_test = train_test_split(X, y, test_size=0.2, random_state=42)\n",
        "    X_test = X_test._append(input_data)\n",
        "\n",
        "    # Identify and normalize outliers using z-score\n",
        "    grouped_median = df.groupby('Domain')['Amount'].transform('median')\n",
        "    outliers = (np.abs(y_train - grouped_median) > 3 * df.groupby('Domain')['Amount'].transform('std'))\n",
        "    y_train[outliers] = grouped_median[outliers]\n",
        "\n",
        "    # Encode categorical variables using target encoding\n",
        "    categorical_cols = X.select_dtypes(include=['object']).columns.tolist()\n",
        "    target_encoder = TargetEncoder(cols=categorical_cols)\n",
        "    X_train_encoded = target_encoder.fit_transform(X_train, y_train)\n",
        "    X_test_encoded = target_encoder.transform(X_test)\n",
        "    ip_encoded = [X_test_encoded.index[-1]]\n",
        "\n",
        "    # Feature selection\n",
        "    selector = SelectKBest(score_func=f_regression, k=4)\n",
        "    selector.fit(X_train_encoded, y_train)\n",
        "\n",
        "    print(\"Feature Scores:\")\n",
        "    feature_scores = pd.DataFrame({'Feature': X_train_encoded.columns, 'Score': selector.scores_})\n",
        "\n",
        "    # Select the top k features\n",
        "    k = 4\n",
        "    selected_features = feature_scores.nlargest(k, 'Score')['Feature'].tolist()\n",
        "    X_train_selected = X_train_encoded[selected_features]\n",
        "    X_test_selected = X_test_encoded[selected_features]\n",
        "    # print(X_test_selected.keys())\n",
        "    # ip_encoded = X_test_selected[] #len(X_test_encoded)-1]\n",
        "\n",
        "    # Model Complexity and Hyperparameter Tuning\n",
        "    # model = LinearRegression()\n",
        "    model = RandomForestRegressor(max_depth=10, min_samples_split=4, n_estimators=100)\n",
        "\n",
        "    # Train the model on the selected features\n",
        "    model.fit(X_train_selected, y_train)\n",
        "\n",
        "    # Make predictions on the test set\n",
        "    y_pred = model.predict(X_test_selected)\n",
        "    #output_pred = model.predict(ip_encoded)\n",
        "    value = y_pred[len(y_pred)-1]\n",
        "    rounded_number = round(value / 1000000, 1)\n",
        "    formatted_value = \"${} million\".format(rounded_number)\n",
        "    return (formatted_value)\n",
        "\n",
        "data = pd.read_csv('/content/Unicorntablecsv.csv')\n",
        "def get_time_to_unicorn(founded, sector, subsector, entryvaluation, location):\n",
        "    #Select relevant features for the model\n",
        "    features = data[['Founded', 'Sector', 'Sub-Sector', 'Entry Valuation^^ ($B)', 'Location']]\n",
        "    target = data[['Entry']]\n",
        "    # target = pd.to_datetime(col_target)\n",
        "    input_data = pd.DataFrame({\n",
        "        'Founded':[founded],\n",
        "        'Sector': [sector],\n",
        "        'Sub-Sector': [subsector],\n",
        "        'Entry Valuation^^ ($B)': [float(entryvaluation)],\n",
        "        'Location': [location]\n",
        "    })\n",
        "\n",
        "    X_train, X_test, Y_train, Y_test = train_test_split(features, target, test_size=0.2, random_state=42)\n",
        "    X_test = X_test._append(input_data)\n",
        "\n",
        "    target_encoder = TargetEncoder()\n",
        "    X_train_encoded = target_encoder.fit_transform(X_train, Y_train)\n",
        "    X_test_encoded = target_encoder.transform(X_test)\n",
        "\n",
        "    # Create and train the decision tree regression model\n",
        "    model = DecisionTreeRegressor()\n",
        "    model.fit(X_train_encoded, Y_train)\n",
        "\n",
        "    # Make predictions on the testing set\n",
        "    predictions = model.predict(X_test_encoded)\n",
        "    return (predictions[len(predictions)-1])"
      ]
    },
    {
      "cell_type": "code",
      "source": [
        "# Define the Gradio Interfaces for each function\n",
        "interface1 = gr.Interface(\n",
        "    fn=suitable_investor,\n",
        "    inputs=[\"text\", \"text\", \"text\"],\n",
        "    outputs=\"text\",\n",
        "    title=\"Predicting Most Suitable Investors\",\n",
        "    description=\"Enter the Company, Sector, and Location for the new entry and click 'Go'.\",\n",
        ")\n",
        "\n",
        "interface2 = gr.Interface(\n",
        "    fn=predict_valuation,\n",
        "    inputs=[\"text\", \"text\", \"text\", \"text\", \"text\", \"text\"],\n",
        "    outputs=\"text\",\n",
        "    title=\"Predicting Valuation of Startup Post Unicorn Status\",\n",
        "    description=\"Enter the sector, sub-sector, entry valuation, year of entry, location and investors for the new entry and click 'Go'.\",\n",
        ")\n",
        "\n",
        "interface3 = gr.Interface(\n",
        "    fn=ret_predicted_funding,\n",
        "    inputs=[\"text\", \"text\", \"text\", \"text\"],\n",
        "    outputs=\"text\",\n",
        "    title=\"Predicting Expected Amount of Funding.\",\n",
        "    description=\"Enter the entry year, domain, location and stage of funding for the new entry and click 'Go'.\",\n",
        ")\n",
        "\n",
        "interface4 = gr.Interface(\n",
        "    fn=get_time_to_unicorn,\n",
        "    inputs=[\"text\", \"text\", \"text\", \"text\", \"text\"],\n",
        "    outputs=\"text\",\n",
        "    title=\"Predicting Time to Unicorn Status\",\n",
        "    description=\"Enter the entry year, sector, sub-sector, entry-valuation and location for the new entry and click 'Go'.\",\n",
        ")"
      ],
      "metadata": {
        "id": "j-Y96JhAJcUt"
      },
      "execution_count": null,
      "outputs": []
    },
    {
      "cell_type": "code",
      "source": [
        "interface1.launch()"
      ],
      "metadata": {
        "colab": {
          "base_uri": "https://localhost:8080/",
          "height": 616
        },
        "id": "NXkzQ_RxJGm0",
        "outputId": "85c887f9-53f8-45af-812d-01c182edb52d"
      },
      "execution_count": null,
      "outputs": [
        {
          "output_type": "stream",
          "name": "stdout",
          "text": [
            "Colab notebook detected. To show errors in colab notebook, set debug=True in launch()\n",
            "Note: opening Chrome Inspector may crash demo inside Colab notebooks.\n",
            "\n",
            "To create a public link, set `share=True` in `launch()`.\n"
          ]
        },
        {
          "output_type": "display_data",
          "data": {
            "text/plain": [
              "<IPython.core.display.Javascript object>"
            ],
            "application/javascript": [
              "(async (port, path, width, height, cache, element) => {\n",
              "                        if (!google.colab.kernel.accessAllowed && !cache) {\n",
              "                            return;\n",
              "                        }\n",
              "                        element.appendChild(document.createTextNode(''));\n",
              "                        const url = await google.colab.kernel.proxyPort(port, {cache});\n",
              "\n",
              "                        const external_link = document.createElement('div');\n",
              "                        external_link.innerHTML = `\n",
              "                            <div style=\"font-family: monospace; margin-bottom: 0.5rem\">\n",
              "                                Running on <a href=${new URL(path, url).toString()} target=\"_blank\">\n",
              "                                    https://localhost:${port}${path}\n",
              "                                </a>\n",
              "                            </div>\n",
              "                        `;\n",
              "                        element.appendChild(external_link);\n",
              "\n",
              "                        const iframe = document.createElement('iframe');\n",
              "                        iframe.src = new URL(path, url).toString();\n",
              "                        iframe.height = height;\n",
              "                        iframe.allow = \"autoplay; camera; microphone; clipboard-read; clipboard-write;\"\n",
              "                        iframe.width = width;\n",
              "                        iframe.style.border = 0;\n",
              "                        element.appendChild(iframe);\n",
              "                    })(7860, \"/\", \"100%\", 500, false, window.element)"
            ]
          },
          "metadata": {}
        },
        {
          "output_type": "execute_result",
          "data": {
            "text/plain": []
          },
          "metadata": {},
          "execution_count": 9
        }
      ]
    },
    {
      "cell_type": "code",
      "source": [
        "interface2.launch()"
      ],
      "metadata": {
        "colab": {
          "base_uri": "https://localhost:8080/",
          "height": 616
        },
        "id": "vQlUebs1JNVu",
        "outputId": "8318b267-3d87-4209-f777-a0dfb0aa6d88"
      },
      "execution_count": null,
      "outputs": [
        {
          "output_type": "stream",
          "name": "stdout",
          "text": [
            "Colab notebook detected. To show errors in colab notebook, set debug=True in launch()\n",
            "Note: opening Chrome Inspector may crash demo inside Colab notebooks.\n",
            "\n",
            "To create a public link, set `share=True` in `launch()`.\n"
          ]
        },
        {
          "output_type": "display_data",
          "data": {
            "text/plain": [
              "<IPython.core.display.Javascript object>"
            ],
            "application/javascript": [
              "(async (port, path, width, height, cache, element) => {\n",
              "                        if (!google.colab.kernel.accessAllowed && !cache) {\n",
              "                            return;\n",
              "                        }\n",
              "                        element.appendChild(document.createTextNode(''));\n",
              "                        const url = await google.colab.kernel.proxyPort(port, {cache});\n",
              "\n",
              "                        const external_link = document.createElement('div');\n",
              "                        external_link.innerHTML = `\n",
              "                            <div style=\"font-family: monospace; margin-bottom: 0.5rem\">\n",
              "                                Running on <a href=${new URL(path, url).toString()} target=\"_blank\">\n",
              "                                    https://localhost:${port}${path}\n",
              "                                </a>\n",
              "                            </div>\n",
              "                        `;\n",
              "                        element.appendChild(external_link);\n",
              "\n",
              "                        const iframe = document.createElement('iframe');\n",
              "                        iframe.src = new URL(path, url).toString();\n",
              "                        iframe.height = height;\n",
              "                        iframe.allow = \"autoplay; camera; microphone; clipboard-read; clipboard-write;\"\n",
              "                        iframe.width = width;\n",
              "                        iframe.style.border = 0;\n",
              "                        element.appendChild(iframe);\n",
              "                    })(7861, \"/\", \"100%\", 500, false, window.element)"
            ]
          },
          "metadata": {}
        },
        {
          "output_type": "execute_result",
          "data": {
            "text/plain": []
          },
          "metadata": {},
          "execution_count": 10
        }
      ]
    },
    {
      "cell_type": "code",
      "source": [
        "interface3.launch()"
      ],
      "metadata": {
        "id": "QYw7Qs4IJLzA"
      },
      "execution_count": null,
      "outputs": []
    },
    {
      "cell_type": "code",
      "source": [
        "interface4.launch()"
      ],
      "metadata": {
        "id": "3PiN6WtIJJzM"
      },
      "execution_count": null,
      "outputs": []
    },
    {
      "cell_type": "code",
      "source": [
        "!pip install category_encoders"
      ],
      "metadata": {
        "colab": {
          "base_uri": "https://localhost:8080/"
        },
        "id": "km-9KhcDJ-BJ",
        "outputId": "1ddafb8b-c63f-4bf1-ce60-fee08f7a7707"
      },
      "execution_count": null,
      "outputs": [
        {
          "output_type": "stream",
          "name": "stdout",
          "text": [
            "Collecting category_encoders\n",
            "  Downloading category_encoders-2.6.1-py2.py3-none-any.whl (81 kB)\n",
            "\u001b[2K     \u001b[90m━━━━━━━━━━━━━━━━━━━━━━━━━━━━━━━━━━━━━━━━\u001b[0m \u001b[32m81.9/81.9 kB\u001b[0m \u001b[31m1.8 MB/s\u001b[0m eta \u001b[36m0:00:00\u001b[0m\n",
            "\u001b[?25hRequirement already satisfied: numpy>=1.14.0 in /usr/local/lib/python3.10/dist-packages (from category_encoders) (1.22.4)\n",
            "Requirement already satisfied: scikit-learn>=0.20.0 in /usr/local/lib/python3.10/dist-packages (from category_encoders) (1.2.2)\n",
            "Requirement already satisfied: scipy>=1.0.0 in /usr/local/lib/python3.10/dist-packages (from category_encoders) (1.10.1)\n",
            "Requirement already satisfied: statsmodels>=0.9.0 in /usr/local/lib/python3.10/dist-packages (from category_encoders) (0.13.5)\n",
            "Requirement already satisfied: pandas>=1.0.5 in /usr/local/lib/python3.10/dist-packages (from category_encoders) (1.5.3)\n",
            "Requirement already satisfied: patsy>=0.5.1 in /usr/local/lib/python3.10/dist-packages (from category_encoders) (0.5.3)\n",
            "Requirement already satisfied: python-dateutil>=2.8.1 in /usr/local/lib/python3.10/dist-packages (from pandas>=1.0.5->category_encoders) (2.8.2)\n",
            "Requirement already satisfied: pytz>=2020.1 in /usr/local/lib/python3.10/dist-packages (from pandas>=1.0.5->category_encoders) (2022.7.1)\n",
            "Requirement already satisfied: six in /usr/local/lib/python3.10/dist-packages (from patsy>=0.5.1->category_encoders) (1.16.0)\n",
            "Requirement already satisfied: joblib>=1.1.1 in /usr/local/lib/python3.10/dist-packages (from scikit-learn>=0.20.0->category_encoders) (1.3.1)\n",
            "Requirement already satisfied: threadpoolctl>=2.0.0 in /usr/local/lib/python3.10/dist-packages (from scikit-learn>=0.20.0->category_encoders) (3.2.0)\n",
            "Requirement already satisfied: packaging>=21.3 in /usr/local/lib/python3.10/dist-packages (from statsmodels>=0.9.0->category_encoders) (23.1)\n",
            "Installing collected packages: category_encoders\n",
            "Successfully installed category_encoders-2.6.1\n"
          ]
        }
      ]
    }
  ]
}